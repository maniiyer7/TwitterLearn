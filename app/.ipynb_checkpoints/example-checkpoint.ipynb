{
 "cells": [
  {
   "cell_type": "markdown",
   "metadata": {},
   "source": [
    "#Setting Up"
   ]
  },
  {
   "cell_type": "code",
   "execution_count": 1,
   "metadata": {
    "collapsed": false
   },
   "outputs": [],
   "source": [
    "from config import *\n",
    "from twitter import *\n",
    "from monkeylearn import *"
   ]
  },
  {
   "cell_type": "code",
   "execution_count": 2,
   "metadata": {
    "collapsed": false
   },
   "outputs": [
    {
     "ename": "NameError",
     "evalue": "name 'MONKEYLEARN_CLASSIFIER_BASE_URL' is not defined",
     "output_type": "error",
     "traceback": [
      "\u001b[1;31m---------------------------------------------------------------------------\u001b[0m",
      "\u001b[1;31mNameError\u001b[0m                                 Traceback (most recent call last)",
      "\u001b[1;32m<ipython-input-2-0860cb02c6df>\u001b[0m in \u001b[0;36m<module>\u001b[1;34m()\u001b[0m\n\u001b[1;32m----> 1\u001b[1;33m \u001b[0mMONKEYLEARN_CLASSIFIER_BASE_URL\u001b[0m\u001b[1;33m\u001b[0m\u001b[0m\n\u001b[0m",
      "\u001b[1;31mNameError\u001b[0m: name 'MONKEYLEARN_CLASSIFIER_BASE_URL' is not defined"
     ]
    }
   ],
   "source": []
  },
  {
   "cell_type": "markdown",
   "metadata": {},
   "source": [
    "#Getting Twitter Data"
   ]
  },
  {
   "cell_type": "markdown",
   "metadata": {},
   "source": [
    "##Authenticate"
   ]
  },
  {
   "cell_type": "code",
   "execution_count": 2,
   "metadata": {
    "collapsed": true
   },
   "outputs": [],
   "source": [
    "# Authenticate to Twitter API\n",
    "auth = tweepy.OAuthHandler(TWITTER_CONSUMER_KEY, TWITTER_CONSUMER_SECRET)\n",
    "auth.set_access_token(TWITTER_ACCESS_TOKEN_KEY, TWITTER_ACCESS_TOKEN_SECRET)\n",
    "api = tweepy.API(auth)"
   ]
  },
  {
   "cell_type": "markdown",
   "metadata": {},
   "source": [
    "##Twitter Data"
   ]
  },
  {
   "cell_type": "code",
   "execution_count": 3,
   "metadata": {
    "collapsed": true
   },
   "outputs": [],
   "source": [
    "# Get the descriptions of the people that twitter_user is following.\n",
    "descriptions = get_friends_descriptions(api, TWITTER_USER, max_users=30)"
   ]
  },
  {
   "cell_type": "code",
   "execution_count": 3,
   "metadata": {
    "collapsed": true
   },
   "outputs": [],
   "source": [
    "tweets = []\n",
    "tweets.extend(get_tweets(api, TWITTER_USER, 'timeline', 40))  # what are the rate limits?\n",
    "tweets.extend(get_tweets(api, TWITTER_USER, 'favorites', 40))  # what are the rate limits?\n",
    "\n",
    "tweets = map(lambda t: t[0], sorted(tweets, key=lambda t: t[1], reverse=True))[:500]"
   ]
  },
  {
   "cell_type": "code",
   "execution_count": 4,
   "metadata": {
    "collapsed": false
   },
   "outputs": [],
   "source": [
    "# Classify the bios and tweets with MonkeyLearn's news classifier.\n",
    "topics = classify_batch(tweets, MONKEYLEARN_TOPIC_CLASSIFIER_ID)"
   ]
  },
  {
   "cell_type": "code",
   "execution_count": 49,
   "metadata": {
    "collapsed": false
   },
   "outputs": [
    {
     "name": "stdout",
     "output_type": "stream",
     "text": [
      "probability                      0.457\n",
      "label          Religion & Spirituality\n",
      "Name: 1, dtype: object\n",
      "probability             0.39\n",
      "label          World cuisine\n",
      "Name: 1, dtype: object\n",
      "probability             0.275\n",
      "label          Beauty & Style\n",
      "Name: 0, dtype: object\n",
      "probability    0.635\n",
      "label          Video\n",
      "Name: 1, dtype: object\n",
      "probability          0.221\n",
      "label          Environment\n",
      "Name: 0, dtype: object\n",
      "probability     0.172\n",
      "label          Comics\n",
      "Name: 1, dtype: object\n",
      "probability        0.381\n",
      "label          Beverages\n",
      "Name: 1, dtype: object\n",
      "probability         0.575\n",
      "label          Television\n",
      "Name: 1, dtype: object\n",
      "probability        0.423\n",
      "label          Gardening\n",
      "Name: 0, dtype: object\n",
      "probability             0.793\n",
      "label          Transportation\n",
      "Name: 1, dtype: object\n",
      "probability                         0.452\n",
      "label          Entertainment & Recreation\n",
      "Name: 0, dtype: object\n",
      "probability                           0.849\n",
      "label          Diseases & Health Conditions\n",
      "Name: 1, dtype: object\n",
      "probability       0.864\n",
      "label          Aircraft\n",
      "Name: 2, dtype: object\n",
      "probability             0.435\n",
      "label          Beauty & Style\n",
      "Name: 0, dtype: object\n",
      "probability              0.353\n",
      "label          Major Companies\n",
      "Name: 1, dtype: object\n",
      "probability              0.18\n",
      "label          Beauty & Style\n",
      "Name: 0, dtype: object\n",
      "probability      0.494\n",
      "label          Insects\n",
      "Name: 1, dtype: object\n",
      "probability             0.295\n",
      "label          Beauty & Style\n",
      "Name: 0, dtype: object\n",
      "probability        0.407\n",
      "label          Gardening\n",
      "Name: 0, dtype: object\n",
      "probability    0.284\n",
      "label          Birds\n",
      "Name: 1, dtype: object\n",
      "probability             0.445\n",
      "label          Mobile Devices\n",
      "Name: 1, dtype: object\n",
      "probability            0.364\n",
      "label          World cuisine\n",
      "Name: 1, dtype: object\n",
      "probability    0.756\n",
      "label          Music\n",
      "Name: 3, dtype: object\n",
      "probability         0.937\n",
      "label          Literature\n",
      "Name: 2, dtype: object\n",
      "probability                         0.225\n",
      "label          Entertainment & Recreation\n",
      "Name: 0, dtype: object\n",
      "probability             0.557\n",
      "label          Beauty & Style\n",
      "Name: 0, dtype: object\n",
      "probability      0.334\n",
      "label          Animals\n",
      "Name: 0, dtype: object\n",
      "probability                         0.165\n",
      "label          Entertainment & Recreation\n",
      "Name: 0, dtype: object\n",
      "probability      0.667\n",
      "label          Animals\n",
      "Name: 0, dtype: object\n",
      "probability       0.655\n",
      "label          Internet\n",
      "Name: 1, dtype: object\n",
      "probability                         0.303\n",
      "label          Entertainment & Recreation\n",
      "Name: 0, dtype: object\n",
      "probability             0.603\n",
      "label          Beauty & Style\n",
      "Name: 0, dtype: object\n",
      "probability                 0.279\n",
      "label          Restaurants & Bars\n",
      "Name: 1, dtype: object\n",
      "probability        0.126\n",
      "label          Gardening\n",
      "Name: 0, dtype: object\n",
      "probability                         0.314\n",
      "label          Entertainment & Recreation\n",
      "Name: 0, dtype: object\n",
      "probability             0.659\n",
      "label          Beauty & Style\n",
      "Name: 0, dtype: object\n",
      "probability                0.745\n",
      "label          Special Occasions\n",
      "Name: 1, dtype: object\n",
      "probability          0.441\n",
      "label          Mathematics\n",
      "Name: 1, dtype: object\n",
      "probability        0.343\n",
      "label          Computers\n",
      "Name: 1, dtype: object\n",
      "probability                         0.439\n",
      "label          Entertainment & Recreation\n",
      "Name: 0, dtype: object\n",
      "probability       0.802\n",
      "label          Internet\n",
      "Name: 1, dtype: object\n",
      "probability          0.125\n",
      "label          Environment\n",
      "Name: 0, dtype: object\n",
      "probability        0.123\n",
      "label          Gardening\n",
      "Name: 0, dtype: object\n",
      "probability      0.188\n",
      "label          Animals\n",
      "Name: 0, dtype: object\n",
      "probability              0.42\n",
      "label          Beauty & Style\n",
      "Name: 0, dtype: object\n",
      "probability        0.592\n",
      "label          Parenting\n",
      "Name: 1, dtype: object\n",
      "probability        0.571\n",
      "label          Parenting\n",
      "Name: 1, dtype: object\n",
      "probability        0.445\n",
      "label          Parenting\n",
      "Name: 1, dtype: object\n",
      "probability     0.203\n",
      "label          Movies\n",
      "Name: 1, dtype: object\n",
      "probability             0.643\n",
      "label          Mobile Devices\n",
      "Name: 1, dtype: object\n",
      "probability              0.882\n",
      "label          Performing Arts\n",
      "Name: 2, dtype: object\n",
      "probability    0.326\n",
      "label           Home\n",
      "Name: 0, dtype: object\n",
      "probability             0.486\n",
      "label          Mobile Devices\n",
      "Name: 1, dtype: object\n",
      "probability             0.786\n",
      "label          Beauty & Style\n",
      "Name: 0, dtype: object\n",
      "probability                         0.147\n",
      "label          Entertainment & Recreation\n",
      "Name: 0, dtype: object\n",
      "probability             0.366\n",
      "label          Beauty & Style\n",
      "Name: 0, dtype: object\n",
      "probability             0.511\n",
      "label          Mobile Devices\n",
      "Name: 1, dtype: object\n",
      "probability    0.943\n",
      "label            Art\n",
      "Name: 1, dtype: object\n",
      "probability    0.478\n",
      "label          Audio\n",
      "Name: 1, dtype: object\n",
      "probability         0.417\n",
      "label          Television\n",
      "Name: 1, dtype: object\n",
      "probability    0.582\n",
      "label          Video\n",
      "Name: 1, dtype: object\n",
      "probability             0.819\n",
      "label          Transportation\n",
      "Name: 1, dtype: object\n",
      "probability                   0.819\n",
      "label          Alternative Medicine\n",
      "Name: 1, dtype: object\n",
      "probability         0.873\n",
      "label          Literature\n",
      "Name: 2, dtype: object\n",
      "probability        0.721\n",
      "label          Parenting\n",
      "Name: 1, dtype: object\n",
      "probability     0.363\n",
      "label          Sports\n",
      "Name: 2, dtype: object\n"
     ]
    }
   ],
   "source": [
    "for topic in topics:\n",
    "    df=pd.DataFrame(np.zeros(0,dtype=[ ('probability', 'i4'), ('label', 'a50')]))\n",
    "    for pred in topic:\n",
    "        preddf = pd.DataFrame([[pred['probability'], pred['label']]], columns= ['probability', 'label'])\n",
    "        df = df.append(preddf, ignore_index=True)\n",
    "    df = df.ix[df['probability'].idxmax()]\n",
    "    print df"
   ]
  },
  {
   "cell_type": "code",
   "execution_count": 38,
   "metadata": {
    "collapsed": false
   },
   "outputs": [
    {
     "data": {
      "text/plain": [
       "array([], \n",
       "      dtype=[('probability', '<i4'), ('label', 'S50')])"
      ]
     },
     "execution_count": 38,
     "metadata": {},
     "output_type": "execute_result"
    }
   ],
   "source": [
    "np.zeros(0,dtype=[ ('probability', 'i4'), ('label', 'a50')])"
   ]
  }
 ],
 "metadata": {
  "kernelspec": {
   "display_name": "Python 2",
   "language": "python",
   "name": "python2"
  },
  "language_info": {
   "codemirror_mode": {
    "name": "ipython",
    "version": 2
   },
   "file_extension": ".py",
   "mimetype": "text/x-python",
   "name": "python",
   "nbconvert_exporter": "python",
   "pygments_lexer": "ipython2",
   "version": "2.7.9"
  }
 },
 "nbformat": 4,
 "nbformat_minor": 0
}
